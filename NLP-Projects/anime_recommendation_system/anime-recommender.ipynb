{
 "cells": [
  {
   "cell_type": "code",
   "execution_count": 216,
   "id": "ba0ded53",
   "metadata": {},
   "outputs": [],
   "source": [
    "import numpy as np\n",
    "import pandas as pd\n",
    "import re"
   ]
  },
  {
   "cell_type": "code",
   "execution_count": 217,
   "id": "84a16630",
   "metadata": {},
   "outputs": [],
   "source": [
    "anime = pd.read_csv('./dataset/anime.csv')\n",
    "rating = pd.read_csv('./dataset/rating.csv')"
   ]
  },
  {
   "cell_type": "code",
   "execution_count": 218,
   "id": "b360d1d6",
   "metadata": {},
   "outputs": [],
   "source": [
    "anime_df = anime.merge(rating, on='anime_id',suffixes= ['', '_user'])"
   ]
  },
  {
   "cell_type": "code",
   "execution_count": 219,
   "id": "23cb71ad",
   "metadata": {},
   "outputs": [
    {
     "data": {
      "text/html": [
       "<div>\n",
       "<style scoped>\n",
       "    .dataframe tbody tr th:only-of-type {\n",
       "        vertical-align: middle;\n",
       "    }\n",
       "\n",
       "    .dataframe tbody tr th {\n",
       "        vertical-align: top;\n",
       "    }\n",
       "\n",
       "    .dataframe thead th {\n",
       "        text-align: right;\n",
       "    }\n",
       "</style>\n",
       "<table border=\"1\" class=\"dataframe\">\n",
       "  <thead>\n",
       "    <tr style=\"text-align: right;\">\n",
       "      <th></th>\n",
       "      <th>anime_id</th>\n",
       "      <th>name</th>\n",
       "      <th>genre</th>\n",
       "      <th>type</th>\n",
       "      <th>episodes</th>\n",
       "      <th>rating</th>\n",
       "      <th>members</th>\n",
       "      <th>user_id</th>\n",
       "      <th>rating_user</th>\n",
       "    </tr>\n",
       "  </thead>\n",
       "  <tbody>\n",
       "    <tr>\n",
       "      <th>0</th>\n",
       "      <td>32281</td>\n",
       "      <td>Kimi no Na wa.</td>\n",
       "      <td>Drama, Romance, School, Supernatural</td>\n",
       "      <td>Movie</td>\n",
       "      <td>1</td>\n",
       "      <td>9.37</td>\n",
       "      <td>200630</td>\n",
       "      <td>99</td>\n",
       "      <td>5.0</td>\n",
       "    </tr>\n",
       "    <tr>\n",
       "      <th>1</th>\n",
       "      <td>32281</td>\n",
       "      <td>Kimi no Na wa.</td>\n",
       "      <td>Drama, Romance, School, Supernatural</td>\n",
       "      <td>Movie</td>\n",
       "      <td>1</td>\n",
       "      <td>9.37</td>\n",
       "      <td>200630</td>\n",
       "      <td>152</td>\n",
       "      <td>10.0</td>\n",
       "    </tr>\n",
       "    <tr>\n",
       "      <th>2</th>\n",
       "      <td>32281</td>\n",
       "      <td>Kimi no Na wa.</td>\n",
       "      <td>Drama, Romance, School, Supernatural</td>\n",
       "      <td>Movie</td>\n",
       "      <td>1</td>\n",
       "      <td>9.37</td>\n",
       "      <td>200630</td>\n",
       "      <td>244</td>\n",
       "      <td>10.0</td>\n",
       "    </tr>\n",
       "    <tr>\n",
       "      <th>3</th>\n",
       "      <td>32281</td>\n",
       "      <td>Kimi no Na wa.</td>\n",
       "      <td>Drama, Romance, School, Supernatural</td>\n",
       "      <td>Movie</td>\n",
       "      <td>1</td>\n",
       "      <td>9.37</td>\n",
       "      <td>200630</td>\n",
       "      <td>271</td>\n",
       "      <td>10.0</td>\n",
       "    </tr>\n",
       "    <tr>\n",
       "      <th>4</th>\n",
       "      <td>32281</td>\n",
       "      <td>Kimi no Na wa.</td>\n",
       "      <td>Drama, Romance, School, Supernatural</td>\n",
       "      <td>Movie</td>\n",
       "      <td>1</td>\n",
       "      <td>9.37</td>\n",
       "      <td>200630</td>\n",
       "      <td>278</td>\n",
       "      <td>NaN</td>\n",
       "    </tr>\n",
       "  </tbody>\n",
       "</table>\n",
       "</div>"
      ],
      "text/plain": [
       "   anime_id            name                                 genre   type  \\\n",
       "0     32281  Kimi no Na wa.  Drama, Romance, School, Supernatural  Movie   \n",
       "1     32281  Kimi no Na wa.  Drama, Romance, School, Supernatural  Movie   \n",
       "2     32281  Kimi no Na wa.  Drama, Romance, School, Supernatural  Movie   \n",
       "3     32281  Kimi no Na wa.  Drama, Romance, School, Supernatural  Movie   \n",
       "4     32281  Kimi no Na wa.  Drama, Romance, School, Supernatural  Movie   \n",
       "\n",
       "  episodes  rating  members  user_id  rating_user  \n",
       "0        1    9.37   200630       99          5.0  \n",
       "1        1    9.37   200630      152         10.0  \n",
       "2        1    9.37   200630      244         10.0  \n",
       "3        1    9.37   200630      271         10.0  \n",
       "4        1    9.37   200630      278          NaN  "
      ]
     },
     "execution_count": 219,
     "metadata": {},
     "output_type": "execute_result"
    }
   ],
   "source": [
    "anime_df[\"rating_user\"].replace({-1: np.nan}, inplace=True)\n",
    "anime_df.head()"
   ]
  },
  {
   "cell_type": "code",
   "execution_count": 220,
   "id": "b7544c66",
   "metadata": {},
   "outputs": [
    {
     "data": {
      "text/plain": [
       "anime_id       0\n",
       "name           0\n",
       "genre          0\n",
       "type           0\n",
       "episodes       0\n",
       "rating         0\n",
       "members        0\n",
       "user_id        0\n",
       "rating_user    0\n",
       "dtype: int64"
      ]
     },
     "execution_count": 220,
     "metadata": {},
     "output_type": "execute_result"
    }
   ],
   "source": [
    "anime_df.dropna(axis=0, how='any', inplace=True)\n",
    "anime_df.isnull().sum()"
   ]
  },
  {
   "cell_type": "code",
   "execution_count": 221,
   "id": "64852dfa",
   "metadata": {},
   "outputs": [
    {
     "data": {
      "text/plain": [
       "(6337146, 9)"
      ]
     },
     "execution_count": 221,
     "metadata": {},
     "output_type": "execute_result"
    }
   ],
   "source": [
    "anime_df.shape"
   ]
  },
  {
   "cell_type": "code",
   "execution_count": 222,
   "id": "67f729d6",
   "metadata": {},
   "outputs": [
    {
     "data": {
      "text/html": [
       "<div>\n",
       "<style scoped>\n",
       "    .dataframe tbody tr th:only-of-type {\n",
       "        vertical-align: middle;\n",
       "    }\n",
       "\n",
       "    .dataframe tbody tr th {\n",
       "        vertical-align: top;\n",
       "    }\n",
       "\n",
       "    .dataframe thead th {\n",
       "        text-align: right;\n",
       "    }\n",
       "</style>\n",
       "<table border=\"1\" class=\"dataframe\">\n",
       "  <thead>\n",
       "    <tr style=\"text-align: right;\">\n",
       "      <th></th>\n",
       "      <th>anime_id</th>\n",
       "      <th>name</th>\n",
       "      <th>genre</th>\n",
       "      <th>type</th>\n",
       "      <th>episodes</th>\n",
       "      <th>rating</th>\n",
       "      <th>members</th>\n",
       "      <th>user_id</th>\n",
       "      <th>rating_user</th>\n",
       "    </tr>\n",
       "  </thead>\n",
       "  <tbody>\n",
       "    <tr>\n",
       "      <th>0</th>\n",
       "      <td>32281</td>\n",
       "      <td>Kimi no Na wa.</td>\n",
       "      <td>Drama, Romance, School, Supernatural</td>\n",
       "      <td>Movie</td>\n",
       "      <td>1</td>\n",
       "      <td>9.37</td>\n",
       "      <td>200630</td>\n",
       "      <td>99</td>\n",
       "      <td>5.0</td>\n",
       "    </tr>\n",
       "    <tr>\n",
       "      <th>1</th>\n",
       "      <td>32281</td>\n",
       "      <td>Kimi no Na wa.</td>\n",
       "      <td>Drama, Romance, School, Supernatural</td>\n",
       "      <td>Movie</td>\n",
       "      <td>1</td>\n",
       "      <td>9.37</td>\n",
       "      <td>200630</td>\n",
       "      <td>152</td>\n",
       "      <td>10.0</td>\n",
       "    </tr>\n",
       "    <tr>\n",
       "      <th>2</th>\n",
       "      <td>32281</td>\n",
       "      <td>Kimi no Na wa.</td>\n",
       "      <td>Drama, Romance, School, Supernatural</td>\n",
       "      <td>Movie</td>\n",
       "      <td>1</td>\n",
       "      <td>9.37</td>\n",
       "      <td>200630</td>\n",
       "      <td>244</td>\n",
       "      <td>10.0</td>\n",
       "    </tr>\n",
       "    <tr>\n",
       "      <th>3</th>\n",
       "      <td>32281</td>\n",
       "      <td>Kimi no Na wa.</td>\n",
       "      <td>Drama, Romance, School, Supernatural</td>\n",
       "      <td>Movie</td>\n",
       "      <td>1</td>\n",
       "      <td>9.37</td>\n",
       "      <td>200630</td>\n",
       "      <td>271</td>\n",
       "      <td>10.0</td>\n",
       "    </tr>\n",
       "    <tr>\n",
       "      <th>5</th>\n",
       "      <td>32281</td>\n",
       "      <td>Kimi no Na wa.</td>\n",
       "      <td>Drama, Romance, School, Supernatural</td>\n",
       "      <td>Movie</td>\n",
       "      <td>1</td>\n",
       "      <td>9.37</td>\n",
       "      <td>200630</td>\n",
       "      <td>322</td>\n",
       "      <td>10.0</td>\n",
       "    </tr>\n",
       "  </tbody>\n",
       "</table>\n",
       "</div>"
      ],
      "text/plain": [
       "   anime_id            name                                 genre   type  \\\n",
       "0     32281  Kimi no Na wa.  Drama, Romance, School, Supernatural  Movie   \n",
       "1     32281  Kimi no Na wa.  Drama, Romance, School, Supernatural  Movie   \n",
       "2     32281  Kimi no Na wa.  Drama, Romance, School, Supernatural  Movie   \n",
       "3     32281  Kimi no Na wa.  Drama, Romance, School, Supernatural  Movie   \n",
       "5     32281  Kimi no Na wa.  Drama, Romance, School, Supernatural  Movie   \n",
       "\n",
       "  episodes  rating  members  user_id  rating_user  \n",
       "0        1    9.37   200630       99          5.0  \n",
       "1        1    9.37   200630      152         10.0  \n",
       "2        1    9.37   200630      244         10.0  \n",
       "3        1    9.37   200630      271         10.0  \n",
       "5        1    9.37   200630      322         10.0  "
      ]
     },
     "execution_count": 222,
     "metadata": {},
     "output_type": "execute_result"
    }
   ],
   "source": [
    "anime_df.head()"
   ]
  },
  {
   "cell_type": "code",
   "execution_count": 223,
   "id": "7c69e0c3",
   "metadata": {},
   "outputs": [
    {
     "data": {
      "text/plain": [
       "Death Note                                                      34226\n",
       "Sword Art Online                                                26310\n",
       "Shingeki no Kyojin                                              25290\n",
       "Code Geass: Hangyaku no Lelouch                                 24126\n",
       "Angel Beats!                                                    23565\n",
       "                                                                ...  \n",
       "Interior                                                            1\n",
       "Running Boy: Star Soldier no Himitsu                                1\n",
       "Violence Gekiga David no Hoshi                                      1\n",
       "Peeping Life: Tezuka Pro - Tatsunoko Pro Wonderland Specials        1\n",
       "Kujakuou: Sengoku Tensei                                            1\n",
       "Name: name, Length: 9892, dtype: int64"
      ]
     },
     "execution_count": 223,
     "metadata": {},
     "output_type": "execute_result"
    }
   ],
   "source": [
    "anime_df['name'].value_counts()"
   ]
  },
  {
   "cell_type": "code",
   "execution_count": 224,
   "id": "f58774fb",
   "metadata": {},
   "outputs": [],
   "source": [
    "def name_cleaning(text):\n",
    "    text = re.sub(r'&quot;', '', text)\n",
    "    text = re.sub(r'&quot;', '', text)\n",
    "    text = re.sub(r'.hack//', '', text)\n",
    "    text = re.sub(r'&#039;', '', text)\n",
    "    text = re.sub(r'A&#039;s', '', text)\n",
    "    text = re.sub(r'I&#039;', 'I\\'', text)\n",
    "    text = re.sub(r'&amp;', 'and', text)\n",
    "    \n",
    "    return text"
   ]
  },
  {
   "cell_type": "code",
   "execution_count": 225,
   "id": "5f17cd7e",
   "metadata": {},
   "outputs": [],
   "source": [
    "anime_df['name'] = anime_df['name'].apply(name_cleaning)"
   ]
  },
  {
   "cell_type": "code",
   "execution_count": 226,
   "id": "607e0f5f",
   "metadata": {},
   "outputs": [
    {
     "data": {
      "text/plain": [
       "Comedy, School, Slice of Life                    49850\n",
       "Hentai                                           42979\n",
       "Comedy, Slice of Life                            42932\n",
       "Action, Adventure, Fantasy, Game, Romance        42260\n",
       "Comedy, Romance, School, Slice of Life           41648\n",
       "                                                 ...  \n",
       "Adventure, Drama, Historical, Music                  1\n",
       "Comedy, Police, Shounen, Slice of Life               1\n",
       "Adventure, Comedy, Kids, Music, Sci-Fi, Space        1\n",
       "Horror, Shounen                                      1\n",
       "Action, Cars, Shounen, Sports                        1\n",
       "Name: genre, Length: 3048, dtype: int64"
      ]
     },
     "execution_count": 226,
     "metadata": {},
     "output_type": "execute_result"
    }
   ],
   "source": [
    "anime_df['genre'].value_counts()"
   ]
  },
  {
   "cell_type": "code",
   "execution_count": 227,
   "id": "aee77257",
   "metadata": {},
   "outputs": [],
   "source": [
    "def genreFilters(text):\n",
    "        text = re.sub(r\",\",\"\", text)\n",
    "        return text"
   ]
  },
  {
   "cell_type": "code",
   "execution_count": 228,
   "id": "39ce7443",
   "metadata": {},
   "outputs": [],
   "source": [
    "anime_df['genre'] = anime_df['genre'].apply(genreFilters)"
   ]
  },
  {
   "cell_type": "code",
   "execution_count": 229,
   "id": "49f937c4",
   "metadata": {},
   "outputs": [],
   "source": [
    "anime_df['tags'] = anime_df['genre'] + ' ' + anime_df['type']"
   ]
  },
  {
   "cell_type": "code",
   "execution_count": 230,
   "id": "17390c63",
   "metadata": {},
   "outputs": [
    {
     "data": {
      "text/html": [
       "<div>\n",
       "<style scoped>\n",
       "    .dataframe tbody tr th:only-of-type {\n",
       "        vertical-align: middle;\n",
       "    }\n",
       "\n",
       "    .dataframe tbody tr th {\n",
       "        vertical-align: top;\n",
       "    }\n",
       "\n",
       "    .dataframe thead th {\n",
       "        text-align: right;\n",
       "    }\n",
       "</style>\n",
       "<table border=\"1\" class=\"dataframe\">\n",
       "  <thead>\n",
       "    <tr style=\"text-align: right;\">\n",
       "      <th></th>\n",
       "      <th>anime_id</th>\n",
       "      <th>name</th>\n",
       "      <th>genre</th>\n",
       "      <th>type</th>\n",
       "      <th>episodes</th>\n",
       "      <th>rating</th>\n",
       "      <th>members</th>\n",
       "      <th>user_id</th>\n",
       "      <th>rating_user</th>\n",
       "      <th>tags</th>\n",
       "    </tr>\n",
       "  </thead>\n",
       "  <tbody>\n",
       "    <tr>\n",
       "      <th>0</th>\n",
       "      <td>32281</td>\n",
       "      <td>Kimi no Na wa.</td>\n",
       "      <td>Drama Romance School Supernatural</td>\n",
       "      <td>Movie</td>\n",
       "      <td>1</td>\n",
       "      <td>9.37</td>\n",
       "      <td>200630</td>\n",
       "      <td>99</td>\n",
       "      <td>5.0</td>\n",
       "      <td>Drama Romance School Supernatural Movie</td>\n",
       "    </tr>\n",
       "  </tbody>\n",
       "</table>\n",
       "</div>"
      ],
      "text/plain": [
       "   anime_id            name                              genre   type  \\\n",
       "0     32281  Kimi no Na wa.  Drama Romance School Supernatural  Movie   \n",
       "\n",
       "  episodes  rating  members  user_id  rating_user  \\\n",
       "0        1    9.37   200630       99          5.0   \n",
       "\n",
       "                                      tags  \n",
       "0  Drama Romance School Supernatural Movie  "
      ]
     },
     "execution_count": 230,
     "metadata": {},
     "output_type": "execute_result"
    }
   ],
   "source": [
    "anime_df.head(1)"
   ]
  },
  {
   "cell_type": "code",
   "execution_count": 231,
   "id": "1bb8fe08",
   "metadata": {},
   "outputs": [],
   "source": [
    "anime_df.drop_duplicates(inplace=True)"
   ]
  },
  {
   "cell_type": "code",
   "execution_count": 232,
   "id": "a52d3580",
   "metadata": {},
   "outputs": [
    {
     "data": {
      "text/plain": [
       "0"
      ]
     },
     "execution_count": 232,
     "metadata": {},
     "output_type": "execute_result"
    }
   ],
   "source": [
    "anime_df.duplicated().sum()"
   ]
  },
  {
   "cell_type": "code",
   "execution_count": 233,
   "id": "32ea57f4",
   "metadata": {},
   "outputs": [],
   "source": [
    "new_anime_df = anime_df[['anime_id','name','tags']]"
   ]
  },
  {
   "cell_type": "code",
   "execution_count": 234,
   "id": "19ee37be",
   "metadata": {},
   "outputs": [
    {
     "data": {
      "text/html": [
       "<div>\n",
       "<style scoped>\n",
       "    .dataframe tbody tr th:only-of-type {\n",
       "        vertical-align: middle;\n",
       "    }\n",
       "\n",
       "    .dataframe tbody tr th {\n",
       "        vertical-align: top;\n",
       "    }\n",
       "\n",
       "    .dataframe thead th {\n",
       "        text-align: right;\n",
       "    }\n",
       "</style>\n",
       "<table border=\"1\" class=\"dataframe\">\n",
       "  <thead>\n",
       "    <tr style=\"text-align: right;\">\n",
       "      <th></th>\n",
       "      <th>anime_id</th>\n",
       "      <th>name</th>\n",
       "      <th>tags</th>\n",
       "    </tr>\n",
       "  </thead>\n",
       "  <tbody>\n",
       "    <tr>\n",
       "      <th>0</th>\n",
       "      <td>32281</td>\n",
       "      <td>Kimi no Na wa.</td>\n",
       "      <td>Drama Romance School Supernatural Movie</td>\n",
       "    </tr>\n",
       "    <tr>\n",
       "      <th>1</th>\n",
       "      <td>32281</td>\n",
       "      <td>Kimi no Na wa.</td>\n",
       "      <td>Drama Romance School Supernatural Movie</td>\n",
       "    </tr>\n",
       "    <tr>\n",
       "      <th>2</th>\n",
       "      <td>32281</td>\n",
       "      <td>Kimi no Na wa.</td>\n",
       "      <td>Drama Romance School Supernatural Movie</td>\n",
       "    </tr>\n",
       "    <tr>\n",
       "      <th>3</th>\n",
       "      <td>32281</td>\n",
       "      <td>Kimi no Na wa.</td>\n",
       "      <td>Drama Romance School Supernatural Movie</td>\n",
       "    </tr>\n",
       "    <tr>\n",
       "      <th>5</th>\n",
       "      <td>32281</td>\n",
       "      <td>Kimi no Na wa.</td>\n",
       "      <td>Drama Romance School Supernatural Movie</td>\n",
       "    </tr>\n",
       "    <tr>\n",
       "      <th>6</th>\n",
       "      <td>32281</td>\n",
       "      <td>Kimi no Na wa.</td>\n",
       "      <td>Drama Romance School Supernatural Movie</td>\n",
       "    </tr>\n",
       "    <tr>\n",
       "      <th>7</th>\n",
       "      <td>32281</td>\n",
       "      <td>Kimi no Na wa.</td>\n",
       "      <td>Drama Romance School Supernatural Movie</td>\n",
       "    </tr>\n",
       "    <tr>\n",
       "      <th>8</th>\n",
       "      <td>32281</td>\n",
       "      <td>Kimi no Na wa.</td>\n",
       "      <td>Drama Romance School Supernatural Movie</td>\n",
       "    </tr>\n",
       "    <tr>\n",
       "      <th>9</th>\n",
       "      <td>32281</td>\n",
       "      <td>Kimi no Na wa.</td>\n",
       "      <td>Drama Romance School Supernatural Movie</td>\n",
       "    </tr>\n",
       "    <tr>\n",
       "      <th>10</th>\n",
       "      <td>32281</td>\n",
       "      <td>Kimi no Na wa.</td>\n",
       "      <td>Drama Romance School Supernatural Movie</td>\n",
       "    </tr>\n",
       "    <tr>\n",
       "      <th>11</th>\n",
       "      <td>32281</td>\n",
       "      <td>Kimi no Na wa.</td>\n",
       "      <td>Drama Romance School Supernatural Movie</td>\n",
       "    </tr>\n",
       "    <tr>\n",
       "      <th>12</th>\n",
       "      <td>32281</td>\n",
       "      <td>Kimi no Na wa.</td>\n",
       "      <td>Drama Romance School Supernatural Movie</td>\n",
       "    </tr>\n",
       "    <tr>\n",
       "      <th>14</th>\n",
       "      <td>32281</td>\n",
       "      <td>Kimi no Na wa.</td>\n",
       "      <td>Drama Romance School Supernatural Movie</td>\n",
       "    </tr>\n",
       "    <tr>\n",
       "      <th>15</th>\n",
       "      <td>32281</td>\n",
       "      <td>Kimi no Na wa.</td>\n",
       "      <td>Drama Romance School Supernatural Movie</td>\n",
       "    </tr>\n",
       "    <tr>\n",
       "      <th>16</th>\n",
       "      <td>32281</td>\n",
       "      <td>Kimi no Na wa.</td>\n",
       "      <td>Drama Romance School Supernatural Movie</td>\n",
       "    </tr>\n",
       "    <tr>\n",
       "      <th>17</th>\n",
       "      <td>32281</td>\n",
       "      <td>Kimi no Na wa.</td>\n",
       "      <td>Drama Romance School Supernatural Movie</td>\n",
       "    </tr>\n",
       "    <tr>\n",
       "      <th>19</th>\n",
       "      <td>32281</td>\n",
       "      <td>Kimi no Na wa.</td>\n",
       "      <td>Drama Romance School Supernatural Movie</td>\n",
       "    </tr>\n",
       "    <tr>\n",
       "      <th>20</th>\n",
       "      <td>32281</td>\n",
       "      <td>Kimi no Na wa.</td>\n",
       "      <td>Drama Romance School Supernatural Movie</td>\n",
       "    </tr>\n",
       "    <tr>\n",
       "      <th>21</th>\n",
       "      <td>32281</td>\n",
       "      <td>Kimi no Na wa.</td>\n",
       "      <td>Drama Romance School Supernatural Movie</td>\n",
       "    </tr>\n",
       "    <tr>\n",
       "      <th>22</th>\n",
       "      <td>32281</td>\n",
       "      <td>Kimi no Na wa.</td>\n",
       "      <td>Drama Romance School Supernatural Movie</td>\n",
       "    </tr>\n",
       "  </tbody>\n",
       "</table>\n",
       "</div>"
      ],
      "text/plain": [
       "    anime_id            name                                     tags\n",
       "0      32281  Kimi no Na wa.  Drama Romance School Supernatural Movie\n",
       "1      32281  Kimi no Na wa.  Drama Romance School Supernatural Movie\n",
       "2      32281  Kimi no Na wa.  Drama Romance School Supernatural Movie\n",
       "3      32281  Kimi no Na wa.  Drama Romance School Supernatural Movie\n",
       "5      32281  Kimi no Na wa.  Drama Romance School Supernatural Movie\n",
       "6      32281  Kimi no Na wa.  Drama Romance School Supernatural Movie\n",
       "7      32281  Kimi no Na wa.  Drama Romance School Supernatural Movie\n",
       "8      32281  Kimi no Na wa.  Drama Romance School Supernatural Movie\n",
       "9      32281  Kimi no Na wa.  Drama Romance School Supernatural Movie\n",
       "10     32281  Kimi no Na wa.  Drama Romance School Supernatural Movie\n",
       "11     32281  Kimi no Na wa.  Drama Romance School Supernatural Movie\n",
       "12     32281  Kimi no Na wa.  Drama Romance School Supernatural Movie\n",
       "14     32281  Kimi no Na wa.  Drama Romance School Supernatural Movie\n",
       "15     32281  Kimi no Na wa.  Drama Romance School Supernatural Movie\n",
       "16     32281  Kimi no Na wa.  Drama Romance School Supernatural Movie\n",
       "17     32281  Kimi no Na wa.  Drama Romance School Supernatural Movie\n",
       "19     32281  Kimi no Na wa.  Drama Romance School Supernatural Movie\n",
       "20     32281  Kimi no Na wa.  Drama Romance School Supernatural Movie\n",
       "21     32281  Kimi no Na wa.  Drama Romance School Supernatural Movie\n",
       "22     32281  Kimi no Na wa.  Drama Romance School Supernatural Movie"
      ]
     },
     "execution_count": 234,
     "metadata": {},
     "output_type": "execute_result"
    }
   ],
   "source": [
    "new_anime_df.iloc[0:20]"
   ]
  },
  {
   "cell_type": "code",
   "execution_count": 235,
   "id": "fc52a737",
   "metadata": {},
   "outputs": [
    {
     "data": {
      "text/plain": [
       "0                   Drama Romance School Supernatural Movie\n",
       "2199      Action Adventure Drama Fantasy Magic Military ...\n",
       "26774     Action Comedy Historical Parody Samurai Sci-Fi...\n",
       "28159                                    Sci-Fi Thriller TV\n",
       "47442     Action Comedy Historical Parody Samurai Sci-Fi...\n",
       "51115                 Comedy Drama School Shounen Sports TV\n",
       "52348               Action Adventure Shounen Super Power TV\n",
       "60923                       Drama Military Sci-Fi Space OVA\n",
       "61826     Action Comedy Historical Parody Samurai Sci-Fi...\n",
       "64351     Action Comedy Historical Parody Samurai Sci-Fi...\n",
       "66888     Drama Fantasy Romance Slice of Life Supernatur...\n",
       "84742                            Drama School Shounen Movie\n",
       "84786     Action Comedy Historical Parody Samurai Sci-Fi...\n",
       "89760     Action Drama Mecha Military Sci-Fi Super Power TV\n",
       "114002                Comedy Drama School Shounen Sports TV\n",
       "117977                   Adventure Drama Supernatural Movie\n",
       "140951                Drama Music Romance School Shounen TV\n",
       "150399    Adventure Fantasy Historical Mystery Seinen Sl...\n",
       "152111                          Fantasy Slice of Life Movie\n",
       "159820    Action Mecha Military School Sci-Fi Super Powe...\n",
       "Name: tags, dtype: object"
      ]
     },
     "execution_count": 235,
     "metadata": {},
     "output_type": "execute_result"
    }
   ],
   "source": [
    "new_anime_df = new_anime_df.drop_duplicates(subset=['anime_id', 'name'], keep='first')\n",
    "new_anime_df['tags'].iloc[0:20]"
   ]
  },
  {
   "cell_type": "code",
   "execution_count": 236,
   "id": "46eaa8cb",
   "metadata": {},
   "outputs": [
    {
     "data": {
      "text/html": [
       "<div>\n",
       "<style scoped>\n",
       "    .dataframe tbody tr th:only-of-type {\n",
       "        vertical-align: middle;\n",
       "    }\n",
       "\n",
       "    .dataframe tbody tr th {\n",
       "        vertical-align: top;\n",
       "    }\n",
       "\n",
       "    .dataframe thead th {\n",
       "        text-align: right;\n",
       "    }\n",
       "</style>\n",
       "<table border=\"1\" class=\"dataframe\">\n",
       "  <thead>\n",
       "    <tr style=\"text-align: right;\">\n",
       "      <th></th>\n",
       "      <th>anime_id</th>\n",
       "      <th>name</th>\n",
       "      <th>tags</th>\n",
       "    </tr>\n",
       "  </thead>\n",
       "  <tbody>\n",
       "    <tr>\n",
       "      <th>0</th>\n",
       "      <td>32281</td>\n",
       "      <td>Kimi no Na wa.</td>\n",
       "      <td>Drama Romance School Supernatural Movie</td>\n",
       "    </tr>\n",
       "  </tbody>\n",
       "</table>\n",
       "</div>"
      ],
      "text/plain": [
       "   anime_id            name                                     tags\n",
       "0     32281  Kimi no Na wa.  Drama Romance School Supernatural Movie"
      ]
     },
     "execution_count": 236,
     "metadata": {},
     "output_type": "execute_result"
    }
   ],
   "source": [
    "new_anime_df.head(1)"
   ]
  },
  {
   "cell_type": "code",
   "execution_count": 237,
   "id": "12ca0baf",
   "metadata": {},
   "outputs": [
    {
     "data": {
      "text/plain": [
       "(9892, 3)"
      ]
     },
     "execution_count": 237,
     "metadata": {},
     "output_type": "execute_result"
    }
   ],
   "source": [
    "new_anime_df.shape"
   ]
  },
  {
   "cell_type": "code",
   "execution_count": 238,
   "id": "a75fcdab",
   "metadata": {},
   "outputs": [],
   "source": [
    "from sklearn.feature_extraction.text import CountVectorizer\n",
    "cv = CountVectorizer(max_features = 1000, stop_words = 'english')"
   ]
  },
  {
   "cell_type": "code",
   "execution_count": 239,
   "id": "e3549ad1",
   "metadata": {},
   "outputs": [],
   "source": [
    "vector = cv.fit_transform(new_anime_df['tags']).toarray()"
   ]
  },
  {
   "cell_type": "code",
   "execution_count": 240,
   "id": "3e9c9f47",
   "metadata": {},
   "outputs": [
    {
     "data": {
      "text/plain": [
       "(9892, 51)"
      ]
     },
     "execution_count": 240,
     "metadata": {},
     "output_type": "execute_result"
    }
   ],
   "source": [
    "vector.shape"
   ]
  },
  {
   "cell_type": "code",
   "execution_count": 241,
   "id": "e146072a",
   "metadata": {},
   "outputs": [],
   "source": [
    "from sklearn.metrics.pairwise import cosine_similarity\n",
    "similarity = cosine_similarity(vector)"
   ]
  },
  {
   "cell_type": "code",
   "execution_count": 242,
   "id": "794fab19",
   "metadata": {},
   "outputs": [
    {
     "data": {
      "text/plain": [
       "array([[1.        , 0.15811388, 0.        , ..., 0.        , 0.        ,\n",
       "        0.        ],\n",
       "       [0.15811388, 1.        , 0.35355339, ..., 0.        , 0.        ,\n",
       "        0.        ],\n",
       "       [0.        , 0.35355339, 1.        , ..., 0.        , 0.        ,\n",
       "        0.        ],\n",
       "       ...,\n",
       "       [0.        , 0.        , 0.        , ..., 1.        , 1.        ,\n",
       "        1.        ],\n",
       "       [0.        , 0.        , 0.        , ..., 1.        , 1.        ,\n",
       "        1.        ],\n",
       "       [0.        , 0.        , 0.        , ..., 1.        , 1.        ,\n",
       "        1.        ]])"
      ]
     },
     "execution_count": 242,
     "metadata": {},
     "output_type": "execute_result"
    }
   ],
   "source": [
    "similarity"
   ]
  },
  {
   "cell_type": "code",
   "execution_count": 243,
   "id": "6a819f57",
   "metadata": {},
   "outputs": [
    {
     "data": {
      "text/plain": [
       "(9892, 9892)"
      ]
     },
     "execution_count": 243,
     "metadata": {},
     "output_type": "execute_result"
    }
   ],
   "source": [
    "similarity.shape"
   ]
  },
  {
   "cell_type": "code",
   "execution_count": 244,
   "id": "1b42352b",
   "metadata": {},
   "outputs": [],
   "source": [
    "new_anime_df = new_anime_df.reset_index()\n",
    "new_anime_df = new_anime_df.drop(['index'], axis=1)\n",
    "new_anime_df.rename(columns = {'name':'animename'}, inplace = True)"
   ]
  },
  {
   "cell_type": "code",
   "execution_count": 245,
   "id": "ae209c28",
   "metadata": {},
   "outputs": [
    {
     "data": {
      "text/html": [
       "<div>\n",
       "<style scoped>\n",
       "    .dataframe tbody tr th:only-of-type {\n",
       "        vertical-align: middle;\n",
       "    }\n",
       "\n",
       "    .dataframe tbody tr th {\n",
       "        vertical-align: top;\n",
       "    }\n",
       "\n",
       "    .dataframe thead th {\n",
       "        text-align: right;\n",
       "    }\n",
       "</style>\n",
       "<table border=\"1\" class=\"dataframe\">\n",
       "  <thead>\n",
       "    <tr style=\"text-align: right;\">\n",
       "      <th></th>\n",
       "      <th>anime_id</th>\n",
       "      <th>animename</th>\n",
       "      <th>tags</th>\n",
       "    </tr>\n",
       "  </thead>\n",
       "  <tbody>\n",
       "    <tr>\n",
       "      <th>0</th>\n",
       "      <td>32281</td>\n",
       "      <td>Kimi no Na wa.</td>\n",
       "      <td>Drama Romance School Supernatural Movie</td>\n",
       "    </tr>\n",
       "  </tbody>\n",
       "</table>\n",
       "</div>"
      ],
      "text/plain": [
       "   anime_id       animename                                     tags\n",
       "0     32281  Kimi no Na wa.  Drama Romance School Supernatural Movie"
      ]
     },
     "execution_count": 245,
     "metadata": {},
     "output_type": "execute_result"
    }
   ],
   "source": [
    "new_anime_df.head(1)"
   ]
  },
  {
   "cell_type": "code",
   "execution_count": 246,
   "id": "da279c8b",
   "metadata": {},
   "outputs": [
    {
     "data": {
      "text/plain": [
       "5909"
      ]
     },
     "execution_count": 246,
     "metadata": {},
     "output_type": "execute_result"
    }
   ],
   "source": [
    "new_anime_df[new_anime_df['animename'] == 'Dragon Quest Retsuden: Roto no Monshou'].index[0]"
   ]
  },
  {
   "cell_type": "code",
   "execution_count": 247,
   "id": "f40c04ab",
   "metadata": {},
   "outputs": [],
   "source": [
    "def recommend(anime):\n",
    "    index = new_anime_df[new_anime_df['animename'] == anime].index[0]\n",
    "    distances = similarity[index]\n",
    "    anime_list = sorted(list(enumerate(distances)),reverse=True,key = lambda x: x[1])\n",
    "    for i in anime_list[1:11]:\n",
    "        print(new_anime_df.iloc[i[0]].animename)"
   ]
  },
  {
   "cell_type": "code",
   "execution_count": 248,
   "id": "b1c6b695",
   "metadata": {},
   "outputs": [
    {
     "name": "stdout",
     "output_type": "stream",
     "text": [
      "Pokemon: Pikachu no Natsumatsuri\n",
      "MapleStory Special\n",
      "Pokemon: The Origin\n",
      "Pokemon XY: Mega Evolution\n",
      "Pokemon XYandZ Specials\n",
      "Pokemon Crystal: Raikou Ikazuchi no Densetsu\n",
      "Pokemon Best Wishes! Season 2: Decolora Adventure - Dent to Takeshi! Gyarados no Gekirin!!\n",
      "Pokemon Best Wishes! Season 2: Decolora Adventure - Iris vs. Ibuki! Dragon Master e no Michi!!\n",
      "Pokemon XY SP: Road to Kalos\n",
      "Pokemon XY: New Years Eve 2014 Super Mega Special\n"
     ]
    }
   ],
   "source": [
    "recommend('Pokemon Diamond and Pearl Specials')"
   ]
  },
  {
   "cell_type": "code",
   "execution_count": null,
   "id": "a1eef715",
   "metadata": {},
   "outputs": [],
   "source": []
  }
 ],
 "metadata": {
  "kernelspec": {
   "display_name": "Python 3 (ipykernel)",
   "language": "python",
   "name": "python3"
  },
  "language_info": {
   "codemirror_mode": {
    "name": "ipython",
    "version": 3
   },
   "file_extension": ".py",
   "mimetype": "text/x-python",
   "name": "python",
   "nbconvert_exporter": "python",
   "pygments_lexer": "ipython3",
   "version": "3.10.4"
  }
 },
 "nbformat": 4,
 "nbformat_minor": 5
}
