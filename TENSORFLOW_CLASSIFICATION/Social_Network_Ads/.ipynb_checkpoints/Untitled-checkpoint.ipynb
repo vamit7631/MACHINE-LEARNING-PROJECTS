{
 "cells": [
  {
   "cell_type": "code",
   "execution_count": 137,
   "id": "b0d86873",
   "metadata": {},
   "outputs": [],
   "source": [
    "import numpy as np\n",
    "import matplotlib.pyplot as plt\n",
    "import pandas as pd"
   ]
  },
  {
   "cell_type": "code",
   "execution_count": 138,
   "id": "4d67b620",
   "metadata": {},
   "outputs": [],
   "source": [
    "dataset = pd.read_csv('./dataset/Social_Network_Ads.csv')"
   ]
  },
  {
   "cell_type": "code",
   "execution_count": 139,
   "id": "b8b419f3",
   "metadata": {},
   "outputs": [],
   "source": [
    "X = dataset.iloc[:,:-1].values\n",
    "y = dataset.iloc[:, -1].values"
   ]
  },
  {
   "cell_type": "code",
   "execution_count": 140,
   "id": "d619826d",
   "metadata": {},
   "outputs": [],
   "source": [
    "from sklearn.model_selection import train_test_split\n",
    "X_train, X_test, Y_train, Y_test = train_test_split(X, y, test_size= 0.25, random_state= 0)"
   ]
  },
  {
   "cell_type": "code",
   "execution_count": 141,
   "id": "b4e573f2",
   "metadata": {},
   "outputs": [],
   "source": [
    "from sklearn.preprocessing import StandardScaler\n",
    "sc = StandardScaler()\n",
    "X_train = sc.fit_transform(X_train)\n",
    "X_test = sc.fit_transform(X_test)"
   ]
  },
  {
   "cell_type": "code",
   "execution_count": 162,
   "id": "925b719b",
   "metadata": {},
   "outputs": [],
   "source": [
    "from sklearn.linear_model import  LogisticRegression\n",
    "from sklearn.svm import SVC\n",
    "from sklearn.naive_bayes import GaussianNB, BernoulliNB\n",
    "from sklearn.tree import DecisionTreeClassifier\n",
    "from sklearn.neighbors import KNeighborsClassifier\n",
    "from sklearn.ensemble import RandomForestClassifier\n",
    "from sklearn.metrics import accuracy_score,confusion_matrix,precision_score"
   ]
  },
  {
   "cell_type": "code",
   "execution_count": 163,
   "id": "8acf40bd",
   "metadata": {},
   "outputs": [],
   "source": [
    "lrc = LogisticRegression(random_state= 0)\n",
    "svc = SVC(kernel = 'rbf', random_state = 0)\n",
    "gnb = GaussianNB()\n",
    "dtc = DecisionTreeClassifier(criterion= 'entropy', random_state= 0)\n",
    "knc = KNeighborsClassifier(n_neighbors = 5, metric='minkowski', p = 2)\n",
    "rfc = RandomForestClassifier(n_estimators = 50, criterion= 'entropy', random_state= 0)\n",
    "bnb = BernoulliNB()"
   ]
  },
  {
   "cell_type": "code",
   "execution_count": 164,
   "id": "28600118",
   "metadata": {},
   "outputs": [],
   "source": [
    "clfs = {\n",
    "    'LR': lrc, \n",
    "    'SVC' : svc,\n",
    "    'NB': gnb, \n",
    "    'DT': dtc, \n",
    "    'KN' : knc, \n",
    "    'RF': rfc,\n",
    "    'BN' : bnb,\n",
    "}"
   ]
  },
  {
   "cell_type": "code",
   "execution_count": 165,
   "id": "9a032d32",
   "metadata": {},
   "outputs": [],
   "source": [
    "def train_classifier(clf,X_train,Y_train,X_test,Y_test):\n",
    "    clf.fit(X_train,Y_train)\n",
    "    y_pred = clf.predict(X_test)\n",
    "    print(clf.predict(sc.transform([[30,87000]])),\"predicted Value\")\n",
    "    accuracy = accuracy_score(Y_test,y_pred)\n",
    "    precision = precision_score(Y_test,y_pred)\n",
    "    return accuracy,precision"
   ]
  },
  {
   "cell_type": "code",
   "execution_count": 166,
   "id": "48c18ee1",
   "metadata": {},
   "outputs": [
    {
     "name": "stdout",
     "output_type": "stream",
     "text": [
      "[0] predicted Value\n",
      "For  LR\n",
      "Accuracy -  0.87\n",
      "Precision -  0.8275862068965517\n",
      "[0] predicted Value\n",
      "For  SVC\n",
      "Accuracy -  0.93\n",
      "Precision -  0.8787878787878788\n",
      "[0] predicted Value\n",
      "For  NB\n",
      "Accuracy -  0.91\n",
      "Precision -  0.8709677419354839\n",
      "[0] predicted Value\n",
      "For  DT\n",
      "Accuracy -  0.9\n",
      "Precision -  0.8055555555555556\n",
      "[0] predicted Value\n",
      "For  KN\n",
      "Accuracy -  0.93\n",
      "Precision -  0.8787878787878788\n",
      "[0] predicted Value\n",
      "For  RF\n",
      "Accuracy -  0.92\n",
      "Precision -  0.8529411764705882\n",
      "[0] predicted Value\n",
      "For  BN\n",
      "Accuracy -  0.8\n",
      "Precision -  0.75\n"
     ]
    }
   ],
   "source": [
    "accuracy_scores = []\n",
    "precision_scores = []\n",
    "\n",
    "for name,clf in clfs.items():\n",
    "    current_accuracy,current_precision = train_classifier(clf, X_train,Y_train,X_test,Y_test)\n",
    "    print(\"For \",name)\n",
    "    print(\"Accuracy - \",current_accuracy)\n",
    "    print(\"Precision - \",current_precision)\n",
    "    accuracy_scores.append(current_accuracy)\n",
    "    precision_scores.append(current_precision)"
   ]
  },
  {
   "cell_type": "code",
   "execution_count": 169,
   "id": "497da505",
   "metadata": {},
   "outputs": [],
   "source": [
    "performance_df = pd.DataFrame({'Algorithm': clfs.keys(), \"Accuracy\": accuracy_scores, \"Precision\": precision_scores})"
   ]
  },
  {
   "cell_type": "code",
   "execution_count": 170,
   "id": "2c485b05",
   "metadata": {},
   "outputs": [
    {
     "data": {
      "text/html": [
       "<div>\n",
       "<style scoped>\n",
       "    .dataframe tbody tr th:only-of-type {\n",
       "        vertical-align: middle;\n",
       "    }\n",
       "\n",
       "    .dataframe tbody tr th {\n",
       "        vertical-align: top;\n",
       "    }\n",
       "\n",
       "    .dataframe thead th {\n",
       "        text-align: right;\n",
       "    }\n",
       "</style>\n",
       "<table border=\"1\" class=\"dataframe\">\n",
       "  <thead>\n",
       "    <tr style=\"text-align: right;\">\n",
       "      <th></th>\n",
       "      <th>Algorithm</th>\n",
       "      <th>Accuracy</th>\n",
       "      <th>Precision</th>\n",
       "    </tr>\n",
       "  </thead>\n",
       "  <tbody>\n",
       "    <tr>\n",
       "      <th>0</th>\n",
       "      <td>LR</td>\n",
       "      <td>0.87</td>\n",
       "      <td>0.827586</td>\n",
       "    </tr>\n",
       "    <tr>\n",
       "      <th>1</th>\n",
       "      <td>SVC</td>\n",
       "      <td>0.93</td>\n",
       "      <td>0.878788</td>\n",
       "    </tr>\n",
       "    <tr>\n",
       "      <th>2</th>\n",
       "      <td>NB</td>\n",
       "      <td>0.91</td>\n",
       "      <td>0.870968</td>\n",
       "    </tr>\n",
       "    <tr>\n",
       "      <th>3</th>\n",
       "      <td>DT</td>\n",
       "      <td>0.90</td>\n",
       "      <td>0.805556</td>\n",
       "    </tr>\n",
       "    <tr>\n",
       "      <th>4</th>\n",
       "      <td>KN</td>\n",
       "      <td>0.93</td>\n",
       "      <td>0.878788</td>\n",
       "    </tr>\n",
       "    <tr>\n",
       "      <th>5</th>\n",
       "      <td>RF</td>\n",
       "      <td>0.92</td>\n",
       "      <td>0.852941</td>\n",
       "    </tr>\n",
       "    <tr>\n",
       "      <th>6</th>\n",
       "      <td>BN</td>\n",
       "      <td>0.80</td>\n",
       "      <td>0.750000</td>\n",
       "    </tr>\n",
       "  </tbody>\n",
       "</table>\n",
       "</div>"
      ],
      "text/plain": [
       "  Algorithm  Accuracy  Precision\n",
       "0        LR      0.87   0.827586\n",
       "1       SVC      0.93   0.878788\n",
       "2        NB      0.91   0.870968\n",
       "3        DT      0.90   0.805556\n",
       "4        KN      0.93   0.878788\n",
       "5        RF      0.92   0.852941\n",
       "6        BN      0.80   0.750000"
      ]
     },
     "execution_count": 170,
     "metadata": {},
     "output_type": "execute_result"
    }
   ],
   "source": [
    "performance_df"
   ]
  },
  {
   "cell_type": "code",
   "execution_count": null,
   "id": "419590a2",
   "metadata": {},
   "outputs": [],
   "source": []
  }
 ],
 "metadata": {
  "kernelspec": {
   "display_name": "Python 3 (ipykernel)",
   "language": "python",
   "name": "python3"
  },
  "language_info": {
   "codemirror_mode": {
    "name": "ipython",
    "version": 3
   },
   "file_extension": ".py",
   "mimetype": "text/x-python",
   "name": "python",
   "nbconvert_exporter": "python",
   "pygments_lexer": "ipython3",
   "version": "3.9.13"
  }
 },
 "nbformat": 4,
 "nbformat_minor": 5
}
